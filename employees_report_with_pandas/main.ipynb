{
 "cells": [
  {
   "cell_type": "markdown",
   "id": "f6375b88",
   "metadata": {},
   "source": [
    "Exploring Data\n",
    "-----------------\n",
    "\n",
    "In this directory, there is a file called `employees.csv`.  Let's use pandas to load it into a dataframe:"
   ]
  },
  {
   "cell_type": "code",
   "execution_count": null,
   "id": "7bb49822",
   "metadata": {},
   "outputs": [],
   "source": [
    "import pandas as pd\n",
    "from datetime import date\n",
    "\n",
    "# Read in the data\n",
    "df = pd.read_csv('employees.csv', index_col='employee_id')\n",
    "\n",
    "# Show a few rows\n",
    "df.head()"
   ]
  },
  {
   "cell_type": "markdown",
   "id": "fb6aaef5",
   "metadata": {},
   "source": [
    "Get statistics for a series\n",
    "---"
   ]
  },
  {
   "cell_type": "code",
   "execution_count": null,
   "id": "03073c50",
   "metadata": {},
   "outputs": [],
   "source": [
    "mean_waist = df['waist'].mean()\n",
    "print(f\"The mean of the waist series is {mean_waist:.2f} meters.\")"
   ]
  },
  {
   "cell_type": "markdown",
   "id": "05038155",
   "metadata": {},
   "source": [
    "The describe method gathers several statistics at once"
   ]
  },
  {
   "cell_type": "code",
   "execution_count": null,
   "id": "f7ce7057",
   "metadata": {},
   "outputs": [],
   "source": [
    "df.salary.describe()"
   ]
  },
  {
   "cell_type": "markdown",
   "id": "f3c1eeb7",
   "metadata": {},
   "source": [
    "Edit series (no loops)\n",
    "---"
   ]
  },
  {
   "cell_type": "code",
   "execution_count": null,
   "id": "e4b225bc",
   "metadata": {
    "scrolled": true
   },
   "outputs": [],
   "source": [
    "# Convert strings to dates for dob and death\n",
    "df['dob'] = df['dob'].apply(lambda x: date.fromisoformat(x))\n",
    "df['death'] = df['death'].apply(lambda x: date.fromisoformat(x))\n",
    "\n",
    "# Make a new column\n",
    "df['final_age'] = df['death'] - df['dob']\n",
    "\n",
    "# Show a few rows\n",
    "df.head()"
   ]
  },
  {
   "cell_type": "markdown",
   "id": "e59daee1",
   "metadata": {},
   "source": [
    "Get info on categorical series\n",
    "----"
   ]
  },
  {
   "cell_type": "code",
   "execution_count": null,
   "id": "258b57db",
   "metadata": {},
   "outputs": [],
   "source": [
    "print(\"\\n*** Gender ***\")\n",
    "series = df[\"gender\"]\n",
    "missing = series.isnull()\n",
    "print(f\"{missing.sum()} rows have no value for gender.\")\n",
    "series_counts = series.value_counts()\n",
    "for value in series_counts.index:\n",
    "    print(f\"{series_counts.loc[value]} employees are \\\"{value}\\\"\")                  "
   ]
  },
  {
   "cell_type": "code",
   "execution_count": null,
   "id": "7b897dff",
   "metadata": {},
   "outputs": [],
   "source": []
  }
 ],
 "metadata": {
  "kernelspec": {
   "display_name": "Python 3 (ipykernel)",
   "language": "python",
   "name": "python3"
  },
  "language_info": {
   "codemirror_mode": {
    "name": "ipython",
    "version": 3
   },
   "file_extension": ".py",
   "mimetype": "text/x-python",
   "name": "python",
   "nbconvert_exporter": "python",
   "pygments_lexer": "ipython3",
   "version": "3.9.12"
  }
 },
 "nbformat": 4,
 "nbformat_minor": 5
}
